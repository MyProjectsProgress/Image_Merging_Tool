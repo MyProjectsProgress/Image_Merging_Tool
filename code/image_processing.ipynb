{
 "cells": [
  {
   "cell_type": "code",
   "execution_count": 1,
   "metadata": {},
   "outputs": [],
   "source": [
    "import cv2\n",
    "from matplotlib import pyplot as plt\n",
    "import numpy as np"
   ]
  },
  {
   "cell_type": "code",
   "execution_count": 2,
   "metadata": {},
   "outputs": [],
   "source": [
    "class ImageModel():\n",
    "\n",
    "    \"\"\"\n",
    "    A class that represents the ImageModel\n",
    "    \"\"\"\n",
    "\n",
    "    def __init__(self, imgPath: str):\n",
    "        \"\"\"\n",
    "        :param imgPath: absolute path of the image\n",
    "        \"\"\"\n",
    "        self.imgPath = imgPath\n",
    "        self.img = cv2.imread(self.imgPath, flags=cv2.IMREAD_GRAYSCALE).T\n",
    "        self.imgShape = self.img.shape\n",
    "        self.fourier = np.fft.fft2(self.img)\n",
    "        self.real = np.real(self.fourier)\n",
    "        self.imaginary = np.imag(self.fourier)\n",
    "        self.magnitude = np.abs(self.fourier)\n",
    "        self.mag_spectrum = np.log10(self.magnitude)\n",
    "        self.phase = np.angle(self.fourier)\n",
    "        self.uniformMagnitude = np.ones(self.img.shape)\n",
    "        self.uniformPhase = np.zeros(self.img.shape)\n",
    "        self.component_list=[self.mag_spectrum,self.phase,self.real,self.imaginary]\n",
    "\n",
    "    def mix(self, imageToBeMixed, mode):\n",
    "        \"\"\"\n",
    "        a function that takes ImageModel object mag ratio, phase ration and\n",
    "        return the magnitude of ifft of the mix\n",
    "        return type ---> 2D numpy array\n",
    "        \"\"\"\n",
    "\n",
    "        mixInverse = None\n",
    "\n",
    "        if mode == 'MagnitudeAndPhase':\n",
    "            print(\"Mixing Magnitude and Phase\")\n",
    "\n",
    "            mini_shape = min(self.img.shape , imageToBeMixed.shape)      \n",
    "            imageToBeMixed = cv2.resize(imageToBeMixed, mini_shape).T  \n",
    "            \n",
    "            print(self.img.shape)\n",
    "            print(imageToBeMixed.shape)\n",
    "\n",
    "            fourier = np.fft.fft2(imageToBeMixed)\n",
    "            M1 = self.magnitude\n",
    "            P2 = phase = np.angle(fourier)\n",
    "\n",
    "            magnitudeMix = M1 \n",
    "            phaseMix = P2\n",
    "\n",
    "            combined = np.multiply(magnitudeMix, np.exp(1j * phaseMix))\n",
    "            mixInverse = np.real(np.fft.ifft2(combined))\n",
    "    \n",
    "        \n",
    "        elif mode == 'PhaseAndMagnitude':\n",
    "            print(\"Mixing Phase and Magnitude\")\n",
    "\n",
    "            mini_shape = min(self.img.shape , imageToBeMixed.shape)\n",
    "            imageToBeMixed = cv2.resize(imageToBeMixed, mini_shape).T\n",
    "\n",
    "            fourier = np.fft.fft2(imageToBeMixed)\n",
    "            M2 = np.abs(fourier)\n",
    "\n",
    "            P1 = self.phase\n",
    "\n",
    "            magnitudeMix= M2\n",
    "            phaseMix = P1 \n",
    "\n",
    "            combined = np.multiply(magnitudeMix, np.exp(1j * phaseMix))\n",
    "            mixInverse = np.real(np.fft.ifft2(combined))\n",
    "\n",
    "        elif mode == 'MagnitudeAndMagnitude':\n",
    "            print(\"Mixing Magnitude and Magnitude\")\n",
    "\n",
    "            mini_shape = min(self.img.shape , imageToBeMixed.shape)\n",
    "            imageToBeMixed = cv2.resize(imageToBeMixed, mini_shape).T\n",
    "\n",
    "            M1 = self.magnitude\n",
    "            fourier = np.fft.fft2(imageToBeMixed)\n",
    "            M2 = np.abs(fourier)\n",
    "\n",
    "            P1 = self.phase\n",
    "\n",
    "            magnitudeMix = M1 + M2\n",
    "            phaseMix = P1 \n",
    "            \n",
    "            combined = np.multiply(magnitudeMix, np.exp(1j * phaseMix))\n",
    "            mixInverse = np.real(np.fft.ifft2(combined))\n",
    "    \n",
    "\n",
    "                  \n",
    "        return abs(mixInverse)"
   ]
  },
  {
   "cell_type": "code",
   "execution_count": 3,
   "metadata": {},
   "outputs": [
    {
     "name": "stdout",
     "output_type": "stream",
     "text": [
      "Mixing Magnitude and Phase\n",
      "(2025, 877)\n",
      "(2025, 877)\n"
     ]
    }
   ],
   "source": [
    "obj1 = ImageModel('../assets/omda.png')\n",
    "obj2 = ImageModel('../assets/megzawy.jpg')\n",
    "\n",
    "abs_mixInverse = obj1.mix(obj2.img, 'MagnitudeAndPhase')"
   ]
  },
  {
   "cell_type": "code",
   "execution_count": 4,
   "metadata": {},
   "outputs": [
    {
     "data": {
      "text/plain": [
       "True"
      ]
     },
     "execution_count": 4,
     "metadata": {},
     "output_type": "execute_result"
    }
   ],
   "source": [
    "cv2.imwrite(f'../assets/uploads/{\"tamer_basha\"}.png', abs_mixInverse)"
   ]
  },
  {
   "cell_type": "code",
   "execution_count": 5,
   "metadata": {},
   "outputs": [],
   "source": [
    "import cv2 as cv\n",
    "import numpy as np\n",
    "from matplotlib import pyplot as plt\n",
    "\n",
    "img = cv.imread('../assets/omda.png',0)\n",
    "imageToBeMixed = cv.imread('../assets/omda.png',0)\n",
    "\n",
    "variable = img.shape\n",
    "variable = (variable[1],variable[0])\n",
    "imageToBeMixed = cv.resize(imageToBeMixed, variable)\n",
    "\n",
    "#IMAGE ONE FOURIER\n",
    "f = np.fft.fft2(img)\n",
    "fshift = np.fft.fftshift(f)\n",
    "magnitude_spectrum = 20*np.log(np.abs(fshift))\n",
    "\n",
    "#IMAGE TWO FOURIER\n",
    "f2 = np.fft.fft2(imageToBeMixed)\n",
    "fshift2 = np.fft.fftshift(f2)\n",
    "magnitude_spectrum = 20*np.log(np.abs(fshift2))\n",
    "ang2 = np.angle(f2)\n",
    "\n",
    "M1 = np.abs(f)\n",
    "P2 = ang2\n",
    "\n",
    "#COMBINED IMAGE\n",
    "combined = np.multiply(M1, np.exp(1j * P2))\n",
    "# f_ishift3 = np.fft.ifftshift(combined)\n",
    "# img_back = np.fft.ifft2(f_ishift3)\n",
    "# img_back = np.real(img_back)\n",
    "\n",
    "mixInverse = np.real(np.fft.ifft2(combined))\n"
   ]
  },
  {
   "cell_type": "code",
   "execution_count": 6,
   "metadata": {},
   "outputs": [
    {
     "data": {
      "text/plain": [
       "(Text(0.5, 1.0, 'Input Image'), ([], []), ([], []))"
      ]
     },
     "execution_count": 6,
     "metadata": {},
     "output_type": "execute_result"
    },
    {
     "data": {
      "image/png": "[encoded data removed]",
      "text/plain": [
       "<Figure size 432x288 with 1 Axes>"
      ]
     },
     "metadata": {},
     "output_type": "display_data"
    }
   ],
   "source": [
    "plt.subplot(131),plt.imshow(img, cmap = 'gray')\n",
    "plt.title('Input Image'), plt.xticks([]), plt.yticks([])\n"
   ]
  },
  {
   "cell_type": "code",
   "execution_count": 7,
   "metadata": {},
   "outputs": [
    {
     "data": {
      "text/plain": [
       "(Text(0.5, 1.0, 'Magnitude Spectrum'), ([], []), ([], []))"
      ]
     },
     "execution_count": 7,
     "metadata": {},
     "output_type": "execute_result"
    },
    {
     "data": {
      "image/png": "[encoded data removed]",
      "text/plain": [
       "<Figure size 432x288 with 1 Axes>"
      ]
     },
     "metadata": {},
     "output_type": "display_data"
    }
   ],
   "source": [
    "plt.subplot(132),plt.imshow(magnitude_spectrum, cmap = 'gray')\n",
    "plt.title('Magnitude Spectrum'), plt.xticks([]), plt.yticks([])"
   ]
  },
  {
   "cell_type": "code",
   "execution_count": 8,
   "metadata": {},
   "outputs": [
    {
     "data": {
      "text/plain": [
       "(Text(0.5, 1.0, 'Phase'), ([], []), ([], []))"
      ]
     },
     "execution_count": 8,
     "metadata": {},
     "output_type": "execute_result"
    },
    {
     "data": {
      "image/png": "[encoded data removed]",
      "text/plain": [
       "<Figure size 432x288 with 1 Axes>"
      ]
     },
     "metadata": {},
     "output_type": "display_data"
    }
   ],
   "source": [
    "plt.subplot(133),plt.imshow(ang2, cmap = 'gray')\n",
    "plt.title('Phase'), plt.xticks([]), plt.yticks([])"
   ]
  },
  {
   "cell_type": "code",
   "execution_count": 9,
   "metadata": {},
   "outputs": [
    {
     "data": {
      "text/plain": [
       "(Text(0.5, 1.0, 'Output Image'), ([], []), ([], []))"
      ]
     },
     "execution_count": 9,
     "metadata": {},
     "output_type": "execute_result"
    },
    {
     "data": {
      "image/png": "[encoded data removed]",
      "text/plain": [
       "<Figure size 432x288 with 1 Axes>"
      ]
     },
     "metadata": {},
     "output_type": "display_data"
    }
   ],
   "source": [
    "plt.subplot(122),plt.imshow(mixInverse, cmap = 'gray')\n",
    "plt.title('Output Image'), plt.xticks([]), plt.yticks([])"
   ]
  },
  {
   "cell_type": "code",
   "execution_count": 10,
   "metadata": {},
   "outputs": [
    {
     "name": "stdout",
     "output_type": "stream",
     "text": [
      "(877, 2025)\n",
      "(141, 138)\n"
     ]
    }
   ],
   "source": [
    "img = cv.imread('../assets/1.png',0)\n",
    "imageToBeMixed = cv.imread('../assets/omda.png',0)\n",
    "\n",
    "variable = img.shape\n",
    "variable = (variable[1],variable[0])\n",
    "\n",
    "print(imageToBeMixed.shape)\n",
    "imageToBeMixed = cv.resize(imageToBeMixed, variable)\n",
    "print(imageToBeMixed.shape)\n"
   ]
  },
  {
   "cell_type": "code",
   "execution_count": null,
   "metadata": {},
   "outputs": [],
   "source": []
  }
 ],
 "metadata": {
  "kernelspec": {
   "display_name": "base",
   "language": "python",
   "name": "python3"
  },
  "language_info": {
   "codemirror_mode": {
    "name": "ipython",
    "version": 3
   },
   "file_extension": ".py",
   "mimetype": "text/x-python",
   "name": "python",
   "nbconvert_exporter": "python",
   "pygments_lexer": "ipython3",
   "version": "3.9.12 (main, Apr  4 2022, 05:22:27) [MSC v.1916 64 bit (AMD64)]"
  },
  "orig_nbformat": 4,
  "vscode": {
   "interpreter": {
    "hash": "15e1261e11fdca25e1fbe3087b6514fdf2e8ee3a6a852c5a4ca2a1dd4c5422d8"
   }
  }
 },
 "nbformat": 4,
 "nbformat_minor": 2
}
